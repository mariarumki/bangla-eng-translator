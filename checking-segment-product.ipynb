{
  "cells": [
    {
      "cell_type": "code",
      "execution_count": 1,
      "metadata": {
        "colab": {
          "base_uri": "https://localhost:8080/"
        },
        "id": "0WFmHL0jZyZI",
        "outputId": "f687e97d-0d6f-473f-f0ea-e7f7681b5bb8"
      },
      "outputs": [
        {
          "name": "stdout",
          "output_type": "stream",
          "text": [
            "Looking in indexes: https://pypi.org/simple, https://us-python.pkg.dev/colab-wheels/public/simple/\n",
            "Collecting torchdata\n",
            "  Downloading torchdata-0.5.1-cp38-cp38-manylinux_2_17_x86_64.manylinux2014_x86_64.whl (4.6 MB)\n",
            "\u001b[2K     \u001b[90m━━━━━━━━━━━━━━━━━━━━━━━━━━━━━━━━━━━━━━━━\u001b[0m \u001b[32m4.6/4.6 MB\u001b[0m \u001b[31m28.8 MB/s\u001b[0m eta \u001b[36m0:00:00\u001b[0m\n",
            "\u001b[?25hCollecting urllib3>=1.25\n",
            "  Downloading urllib3-1.26.14-py2.py3-none-any.whl (140 kB)\n",
            "\u001b[2K     \u001b[90m━━━━━━━━━━━━━━━━━━━━━━━━━━━━━━━━━━━━━━━\u001b[0m \u001b[32m140.6/140.6 KB\u001b[0m \u001b[31m6.9 MB/s\u001b[0m eta \u001b[36m0:00:00\u001b[0m\n",
            "\u001b[?25hRequirement already satisfied: torch==1.13.1 in /usr/local/lib/python3.8/dist-packages (from torchdata) (1.13.1+cu116)\n",
            "Requirement already satisfied: requests in /usr/local/lib/python3.8/dist-packages (from torchdata) (2.25.1)\n",
            "Collecting portalocker>=2.0.0\n",
            "  Downloading portalocker-2.7.0-py2.py3-none-any.whl (15 kB)\n",
            "Requirement already satisfied: typing-extensions in /usr/local/lib/python3.8/dist-packages (from torch==1.13.1->torchdata) (4.5.0)\n",
            "Requirement already satisfied: certifi>=2017.4.17 in /usr/local/lib/python3.8/dist-packages (from requests->torchdata) (2022.12.7)\n",
            "Requirement already satisfied: chardet<5,>=3.0.2 in /usr/local/lib/python3.8/dist-packages (from requests->torchdata) (4.0.0)\n",
            "Requirement already satisfied: idna<3,>=2.5 in /usr/local/lib/python3.8/dist-packages (from requests->torchdata) (2.10)\n",
            "Installing collected packages: urllib3, portalocker, torchdata\n",
            "  Attempting uninstall: urllib3\n",
            "    Found existing installation: urllib3 1.24.3\n",
            "    Uninstalling urllib3-1.24.3:\n",
            "      Successfully uninstalled urllib3-1.24.3\n",
            "Successfully installed portalocker-2.7.0 torchdata-0.5.1 urllib3-1.26.14\n",
            "Looking in indexes: https://pypi.org/simple, https://us-python.pkg.dev/colab-wheels/public/simple/\n",
            "Requirement already satisfied: torchtext in /usr/local/lib/python3.8/dist-packages (0.14.1)\n",
            "Requirement already satisfied: tqdm in /usr/local/lib/python3.8/dist-packages (from torchtext) (4.64.1)\n",
            "Requirement already satisfied: torch==1.13.1 in /usr/local/lib/python3.8/dist-packages (from torchtext) (1.13.1+cu116)\n",
            "Requirement already satisfied: numpy in /usr/local/lib/python3.8/dist-packages (from torchtext) (1.22.4)\n",
            "Requirement already satisfied: requests in /usr/local/lib/python3.8/dist-packages (from torchtext) (2.25.1)\n",
            "Requirement already satisfied: typing-extensions in /usr/local/lib/python3.8/dist-packages (from torch==1.13.1->torchtext) (4.5.0)\n",
            "Requirement already satisfied: certifi>=2017.4.17 in /usr/local/lib/python3.8/dist-packages (from requests->torchtext) (2022.12.7)\n",
            "Requirement already satisfied: urllib3<1.27,>=1.21.1 in /usr/local/lib/python3.8/dist-packages (from requests->torchtext) (1.26.14)\n",
            "Requirement already satisfied: chardet<5,>=3.0.2 in /usr/local/lib/python3.8/dist-packages (from requests->torchtext) (4.0.0)\n",
            "Requirement already satisfied: idna<3,>=2.5 in /usr/local/lib/python3.8/dist-packages (from requests->torchtext) (2.10)\n"
          ]
        }
      ],
      "source": [
        "!pip install torchdata\n",
        "!pip install torchtext"
      ]
    },
    {
      "cell_type": "code",
      "execution_count": 2,
      "metadata": {
        "colab": {
          "base_uri": "https://localhost:8080/"
        },
        "id": "7BMXH4LlcWtN",
        "outputId": "f698bf02-0832-46dc-9e75-c3110cdbb788"
      },
      "outputs": [
        {
          "name": "stdout",
          "output_type": "stream",
          "text": [
            "cuda\n"
          ]
        }
      ],
      "source": [
        "import torch, torchdata, torchtext\n",
        "from torch import nn\n",
        "\n",
        "import time\n",
        "\n",
        "device = torch.device('cuda' if torch.cuda.is_available() else 'cpu')\n",
        "print(device)\n",
        "\n",
        "# reproducibility \n",
        "SEED = 1234\n",
        "torch.manual_seed(SEED)\n",
        "torch.backends.cudnn.deterministic = True"
      ]
    },
    {
      "cell_type": "code",
      "execution_count": 3,
      "metadata": {
        "colab": {
          "base_uri": "https://localhost:8080/",
          "height": 36
        },
        "id": "nHZec2I2cWy5",
        "outputId": "e58ab020-98c3-4e77-d8e7-b57b25f99a0c"
      },
      "outputs": [
        {
          "data": {
            "application/vnd.google.colaboratory.intrinsic+json": {
              "type": "string"
            },
            "text/plain": [
              "'1.13.1+cu116'"
            ]
          },
          "execution_count": 3,
          "metadata": {},
          "output_type": "execute_result"
        }
      ],
      "source": [
        "torch.__version__"
      ]
    },
    {
      "cell_type": "code",
      "execution_count": 4,
      "metadata": {
        "colab": {
          "base_uri": "https://localhost:8080/",
          "height": 36
        },
        "id": "H1RxJG3SAHCx",
        "outputId": "349ba021-64b6-421e-b2ca-266f4920aa58"
      },
      "outputs": [
        {
          "data": {
            "application/vnd.google.colaboratory.intrinsic+json": {
              "type": "string"
            },
            "text/plain": [
              "'0.14.1'"
            ]
          },
          "execution_count": 4,
          "metadata": {},
          "output_type": "execute_result"
        }
      ],
      "source": [
        "torchtext.__version__"
      ]
    },
    {
      "cell_type": "code",
      "execution_count": 5,
      "metadata": {
        "colab": {
          "base_uri": "https://localhost:8080/",
          "height": 36
        },
        "id": "0u3oJirKAh26",
        "outputId": "cf8d8c45-d06e-4feb-eba2-a4327ea362ca"
      },
      "outputs": [
        {
          "data": {
            "application/vnd.google.colaboratory.intrinsic+json": {
              "type": "string"
            },
            "text/plain": [
              "'0.5.1'"
            ]
          },
          "execution_count": 5,
          "metadata": {},
          "output_type": "execute_result"
        }
      ],
      "source": [
        "torchdata.__version__"
      ]
    },
    {
      "cell_type": "code",
      "execution_count": 6,
      "metadata": {
        "id": "5VO20jfscW33"
      },
      "outputs": [],
      "source": [
        "# torch.cuda.get_device_name(0)"
      ]
    },
    {
      "cell_type": "markdown",
      "metadata": {
        "id": "6kXHI2DuA19A"
      },
      "source": [
        "## 1. Loading the Dataset"
      ]
    },
    {
      "cell_type": "code",
      "execution_count": 7,
      "metadata": {
        "id": "hFDwZ94KcW8o"
      },
      "outputs": [],
      "source": [
        "# for puffer\n",
        "# import os\n",
        "# os.environ['http_proxy']  = 'http://192.41.170.23:3128'\n",
        "# os.environ['https_proxy'] = 'http://192.41.170.23:3128'\n",
        "\n",
        "from torchtext.datasets import SST2\n",
        "\n",
        "train = SST2(split='train')\n",
        "test = SST2(split='dev')"
      ]
    },
    {
      "cell_type": "code",
      "execution_count": 8,
      "metadata": {
        "colab": {
          "base_uri": "https://localhost:8080/"
        },
        "id": "xMDg72PqdCva",
        "outputId": "e1a5d97c-ec7c-4fd6-d665-e107bebe8b31"
      },
      "outputs": [
        {
          "data": {
            "text/plain": [
              "ShardingFilterIterDataPipe"
            ]
          },
          "execution_count": 8,
          "metadata": {},
          "output_type": "execute_result"
        }
      ],
      "source": [
        "train  # a new object by torchdata.....streaming data (yield ....)"
      ]
    },
    {
      "cell_type": "markdown",
      "metadata": {
        "id": "BNpYqZB2BB78"
      },
      "source": [
        "## 2. EDA - Exploratory Data Analysis"
      ]
    },
    {
      "cell_type": "code",
      "execution_count": 9,
      "metadata": {
        "colab": {
          "base_uri": "https://localhost:8080/"
        },
        "id": "nX8Hd8indC67",
        "outputId": "a6edf01a-1cb9-45bc-f65f-a11cbb81865d"
      },
      "outputs": [
        {
          "data": {
            "text/plain": [
              "('hide new secretions from the parental units', 0)"
            ]
          },
          "execution_count": 9,
          "metadata": {},
          "output_type": "execute_result"
        }
      ],
      "source": [
        "next(iter(train))  # generator\n",
        "# (negative, positive)\n",
        "#     0,        1"
      ]
    },
    {
      "cell_type": "code",
      "execution_count": 10,
      "metadata": {
        "colab": {
          "base_uri": "https://localhost:8080/"
        },
        "id": "AIwFtMZDdDAK",
        "outputId": "03363073-4cd3-4b18-ccaf-80d565d47ebe"
      },
      "outputs": [
        {
          "name": "stderr",
          "output_type": "stream",
          "text": [
            "/usr/local/lib/python3.8/dist-packages/torch/utils/data/datapipes/iter/combining.py:262: UserWarning: Some child DataPipes are not exhausted when __iter__ is called. We are resetting the buffer and each child DataPipe will read from the start again.\n",
            "  warnings.warn(\"Some child DataPipes are not exhausted when __iter__ is called. We are resetting \"\n"
          ]
        },
        {
          "data": {
            "text/plain": [
              "('in memory', 1)"
            ]
          },
          "execution_count": 10,
          "metadata": {},
          "output_type": "execute_result"
        }
      ],
      "source": [
        "list(iter(train))[100]  # generator\n",
        "# (negative, positive)\n",
        "#     0,        1"
      ]
    },
    {
      "cell_type": "code",
      "execution_count": 11,
      "metadata": {
        "colab": {
          "base_uri": "https://localhost:8080/"
        },
        "id": "2Mh7kyzHdDGQ",
        "outputId": "46bc837e-c1b1-41c2-eb26-3a7906487eab"
      },
      "outputs": [
        {
          "data": {
            "text/plain": [
              "{0, 1}"
            ]
          },
          "execution_count": 11,
          "metadata": {},
          "output_type": "execute_result"
        }
      ],
      "source": [
        "set([y for x, y in list(iter(train))])"
      ]
    },
    {
      "cell_type": "code",
      "execution_count": 12,
      "metadata": {
        "colab": {
          "base_uri": "https://localhost:8080/"
        },
        "id": "O5cC-Y75f2ac",
        "outputId": "cc0e3e8d-a584-476d-83cc-20cc2bb48da7"
      },
      "outputs": [
        {
          "data": {
            "text/plain": [
              "67349"
            ]
          },
          "execution_count": 12,
          "metadata": {},
          "output_type": "execute_result"
        }
      ],
      "source": [
        "train_size = len(list(iter(train)))\n",
        "train_size"
      ]
    },
    {
      "cell_type": "code",
      "execution_count": 13,
      "metadata": {
        "colab": {
          "base_uri": "https://localhost:8080/"
        },
        "id": "l2k1vAX8f2vl",
        "outputId": "70ff34b0-0ed2-46c9-f128-8128d28f897a"
      },
      "outputs": [
        {
          "data": {
            "text/plain": [
              "ShardingFilterIterDataPipe"
            ]
          },
          "execution_count": 13,
          "metadata": {},
          "output_type": "execute_result"
        }
      ],
      "source": [
        "train"
      ]
    },
    {
      "cell_type": "code",
      "execution_count": 14,
      "metadata": {
        "id": "zWf_jGy3f3EU"
      },
      "outputs": [],
      "source": [
        "# splitting data\n",
        "train, valid = train.random_split(total_length=train_size, \n",
        "                                  weights = {\"train\": 0.8,\n",
        "                                             \"valid\": 0.2},\n",
        "                                  seed = SEED)"
      ]
    },
    {
      "cell_type": "code",
      "execution_count": 15,
      "metadata": {
        "id": "yRVAxwt6gv8A"
      },
      "outputs": [],
      "source": [
        "train_size = len(list(iter(train)))\n",
        "val_size   = len(list(iter(valid)))\n",
        "test_size  = len(list(iter(test)))"
      ]
    },
    {
      "cell_type": "code",
      "execution_count": 16,
      "metadata": {
        "colab": {
          "base_uri": "https://localhost:8080/"
        },
        "id": "JJWsJ39NgwHc",
        "outputId": "13c0210d-c613-4251-b955-1fb7f270c28e"
      },
      "outputs": [
        {
          "data": {
            "text/plain": [
              "(53879, 13470, 872)"
            ]
          },
          "execution_count": 16,
          "metadata": {},
          "output_type": "execute_result"
        }
      ],
      "source": [
        "train_size, val_size, test_size"
      ]
    },
    {
      "cell_type": "markdown",
      "metadata": {
        "id": "3nsYQ-NLEKL6"
      },
      "source": [
        "## 3. Preprocessing"
      ]
    },
    {
      "cell_type": "code",
      "execution_count": 17,
      "metadata": {
        "colab": {
          "base_uri": "https://localhost:8080/"
        },
        "id": "uI40JpMLhBsx",
        "outputId": "93da374c-2056-4ea7-8837-4b80d36297e5"
      },
      "outputs": [
        {
          "data": {
            "text/plain": [
              "['Chaky',\n",
              " 'likes',\n",
              " 'deep',\n",
              " 'learning',\n",
              " 'very',\n",
              " 'much',\n",
              " 'and',\n",
              " 'wants',\n",
              " 'his',\n",
              " 'student',\n",
              " 'to',\n",
              " 'be',\n",
              " 'number',\n",
              " '1',\n",
              " 'in',\n",
              " 'Asia',\n",
              " '....']"
            ]
          },
          "execution_count": 17,
          "metadata": {},
          "output_type": "execute_result"
        }
      ],
      "source": [
        "## 3.1 Tokenizing\n",
        "\n",
        "from torchtext.data.utils import get_tokenizer\n",
        "\n",
        "tokenizer = get_tokenizer('spacy', language='en_core_web_sm')\n",
        "\n",
        "# checking whether the tokenizer works.....\n",
        "tokens    = tokenizer(\"Chaky likes deep learning very much and wants his student to be number 1 in Asia....\")\n",
        "tokens"
      ]
    },
    {
      "cell_type": "code",
      "execution_count": 18,
      "metadata": {
        "colab": {
          "base_uri": "https://localhost:8080/"
        },
        "id": "H4NtMJkZhB1G",
        "outputId": "83c516b3-cd87-4447-a48e-bbceafa3be2f"
      },
      "outputs": [
        {
          "data": {
            "text/plain": [
              "('contains no wit , only labored gags', 0)"
            ]
          },
          "execution_count": 18,
          "metadata": {},
          "output_type": "execute_result"
        }
      ],
      "source": [
        "next(iter(train))"
      ]
    },
    {
      "cell_type": "code",
      "execution_count": 19,
      "metadata": {
        "id": "vrlSKPqwhB6a"
      },
      "outputs": [],
      "source": [
        "## 3.2 Numericalization\n",
        "\n",
        "from torchtext.vocab import build_vocab_from_iterator\n",
        "\n",
        "def yield_tokens(data_iter):  # data_iter, e.g., train\n",
        "    for text, _ in data_iter:\n",
        "        yield tokenizer(text)\n",
        "        \n",
        "vocab = build_vocab_from_iterator(yield_tokens(train), specials=['<unk>', '<pad>',\n",
        "                                                                 '<bos>', '<eos>'])"
      ]
    },
    {
      "cell_type": "code",
      "execution_count": 20,
      "metadata": {
        "id": "6STJqgBlhinv"
      },
      "outputs": [],
      "source": [
        "vocab.set_default_index(vocab[\"<unk>\"]) # if we don't the id of this word, we can set it unk"
      ]
    },
    {
      "cell_type": "code",
      "execution_count": 21,
      "metadata": {
        "colab": {
          "base_uri": "https://localhost:8080/"
        },
        "id": "0TrZVVJphiwo",
        "outputId": "a8238ead-aa44-4692-a318-e24dfc52465c"
      },
      "outputs": [
        {
          "data": {
            "text/plain": [
              "[0, 979, 42, 3751, 10, 26, 975, 2792, 9]"
            ]
          },
          "execution_count": 21,
          "metadata": {},
          "output_type": "execute_result"
        }
      ],
      "source": [
        "vocab(['Chaky', 'wants', 'his', 'student', 'to', 'be', 'number', '1', '.'])"
      ]
    },
    {
      "cell_type": "code",
      "execution_count": 22,
      "metadata": {
        "id": "q2CxZLG9hi5l"
      },
      "outputs": [],
      "source": [
        "id2word = vocab.get_itos()"
      ]
    },
    {
      "cell_type": "code",
      "execution_count": 23,
      "metadata": {
        "colab": {
          "base_uri": "https://localhost:8080/",
          "height": 36
        },
        "id": "oWuMBhGrhxtK",
        "outputId": "91d19b0a-141a-45e5-8324-ce130221c955"
      },
      "outputs": [
        {
          "data": {
            "application/vnd.google.colaboratory.intrinsic+json": {
              "type": "string"
            },
            "text/plain": [
              "'<unk>'"
            ]
          },
          "execution_count": 23,
          "metadata": {},
          "output_type": "execute_result"
        }
      ],
      "source": [
        "id2word[0]"
      ]
    },
    {
      "cell_type": "code",
      "execution_count": 24,
      "metadata": {
        "colab": {
          "base_uri": "https://localhost:8080/"
        },
        "id": "xw-SiPithxkK",
        "outputId": "4e0beedf-1174-4721-e4f6-090dd62033cf"
      },
      "outputs": [
        {
          "data": {
            "text/plain": [
              "[1, 2, 3]"
            ]
          },
          "execution_count": 24,
          "metadata": {},
          "output_type": "execute_result"
        }
      ],
      "source": [
        "vocab(['<pad>', '<bos>', '<eos>'])"
      ]
    },
    {
      "cell_type": "code",
      "execution_count": 25,
      "metadata": {
        "colab": {
          "base_uri": "https://localhost:8080/"
        },
        "id": "UALKJkPLhxdt",
        "outputId": "f615e7f8-ae28-4d4d-900f-6c1ff029a3ec"
      },
      "outputs": [
        {
          "data": {
            "text/plain": [
              "13767"
            ]
          },
          "execution_count": 25,
          "metadata": {},
          "output_type": "execute_result"
        }
      ],
      "source": [
        "len(vocab)  # 13k unique words....."
      ]
    },
    {
      "cell_type": "markdown",
      "metadata": {
        "id": "yyyVz6XoFbJn"
      },
      "source": [
        "## 4. FastText Embedding"
      ]
    },
    {
      "cell_type": "code",
      "execution_count": 26,
      "metadata": {
        "colab": {
          "base_uri": "https://localhost:8080/"
        },
        "id": "Gcl4byupiMOJ",
        "outputId": "1af29cb9-4ad8-4de4-cb62-89aed99aa054"
      },
      "outputs": [
        {
          "name": "stderr",
          "output_type": "stream",
          "text": [
            ".vector_cache/wiki.simple.vec: 293MB [00:18, 16.0MB/s]                           \n",
            "  0%|          | 0/111051 [00:00<?, ?it/s]WARNING:torchtext.vocab.vectors:Skipping token b'111051' with 1-dimensional vector [b'300']; likely a header\n",
            "100%|██████████| 111051/111051 [00:11<00:00, 9262.98it/s] \n"
          ]
        }
      ],
      "source": [
        "from torchtext.vocab import FastText\n",
        "fast_vectors = FastText(language='simple')"
      ]
    },
    {
      "cell_type": "code",
      "execution_count": 27,
      "metadata": {
        "id": "yZM1o-uhiMT6"
      },
      "outputs": [],
      "source": [
        "fast_embedding = fast_vectors.get_vecs_by_tokens(vocab.get_itos()).to(device)"
      ]
    },
    {
      "cell_type": "code",
      "execution_count": 28,
      "metadata": {
        "colab": {
          "base_uri": "https://localhost:8080/"
        },
        "id": "TMnmepodiMYQ",
        "outputId": "e43bd7f1-bbd1-440e-f4fb-d10bd7a5fb99"
      },
      "outputs": [
        {
          "data": {
            "text/plain": [
              "torch.Size([13767, 300])"
            ]
          },
          "execution_count": 28,
          "metadata": {},
          "output_type": "execute_result"
        }
      ],
      "source": [
        "fast_embedding.shape # (vocab size, 300) == (13k, 300)"
      ]
    },
    {
      "cell_type": "code",
      "execution_count": 29,
      "metadata": {
        "colab": {
          "base_uri": "https://localhost:8080/"
        },
        "id": "_SyxnBlMiMc7",
        "outputId": "eeb9021f-8191-4537-f306-5e323dbc34e6"
      },
      "outputs": [
        {
          "data": {
            "text/plain": [
              "tensor([-0.3211, -0.1398, -0.0777, -0.1825, -0.2469,  0.1847, -0.3431,  0.0689,\n",
              "         0.1011, -0.0628], device='cuda:0')"
            ]
          },
          "execution_count": 29,
          "metadata": {},
          "output_type": "execute_result"
        }
      ],
      "source": [
        "# looking up the fasttext embedding of id 100\n",
        "fast_embedding[100][:10] #size of 300 dim of this word id 100"
      ]
    },
    {
      "cell_type": "markdown",
      "metadata": {
        "id": "tuU1cruyyAgE"
      },
      "source": [
        "## 5. Preparing Dataloader"
      ]
    },
    {
      "cell_type": "code",
      "execution_count": 30,
      "metadata": {
        "id": "iozyExS0iMhK"
      },
      "outputs": [],
      "source": [
        "text_pipeline  = lambda x: vocab(tokenizer(x))\n",
        "label_pipeline = lambda x: int(x)   # 0, 1"
      ]
    },
    {
      "cell_type": "code",
      "execution_count": 31,
      "metadata": {
        "colab": {
          "base_uri": "https://localhost:8080/",
          "height": 54
        },
        "id": "TxeKaXnm3AGM",
        "outputId": "ee63fa1f-97be-4e37-b789-66f4c79a85e0"
      },
      "outputs": [
        {
          "data": {
            "application/vnd.google.colaboratory.intrinsic+json": {
              "type": "string"
            },
            "text/plain": [
              "'\\nwhy padding????\\n\\nin the same batch, e.g., batch size = 2\\n\\n\"chaky eat sushi\", ==> \"chaky\", \"eat\", \"sushi\" ==> 0, 22, 11, 1, 1\\n\"chaky sleep\" ==> \"chaky\", \"sleep\" ==> 0, 99, 1, 1, 1\\n\\n'"
            ]
          },
          "execution_count": 31,
          "metadata": {},
          "output_type": "execute_result"
        }
      ],
      "source": [
        "'''\n",
        "why padding????\n",
        "\n",
        "in the same batch, e.g., batch size = 2\n",
        "\n",
        "\"chaky eat sushi\", ==> \"chaky\", \"eat\", \"sushi\" ==> 0, 22, 11, 1, 1\n",
        "\"chaky sleep\" ==> \"chaky\", \"sleep\" ==> 0, 99, 1, 1, 1\n",
        "\n",
        "'''"
      ]
    },
    {
      "cell_type": "code",
      "execution_count": 32,
      "metadata": {
        "id": "37Lnj48W3ALY"
      },
      "outputs": [],
      "source": [
        "from torch.utils.data import DataLoader\n",
        "from torch.nn.utils.rnn import pad_sequence # making each batch same length\n",
        "\n",
        "pad_ix = vocab['<pad>']\n",
        "\n",
        "# this function gonna be called by DataLoader\n",
        "def collate_batch(batch):\n",
        "    label_list, text_list, length_list = [], [], []\n",
        "    for (_text, _label) in batch:\n",
        "        label_list.append(label_pipeline(_label))  \n",
        "        processed_text = torch.tensor(text_pipeline(_text), dtype=torch.int64) \n",
        "        text_list.append(processed_text)\n",
        "        length_list.append(processed_text.size(0)) # for padding\n",
        "        \n",
        "    return torch.tensor(label_list, dtype=torch.int64), \\\n",
        "        pad_sequence(text_list, padding_value=pad_ix, batch_first=True), \\\n",
        "        torch.tensor(length_list, dtype=torch.int64)"
      ]
    },
    {
      "cell_type": "code",
      "execution_count": 33,
      "metadata": {
        "id": "rxLpJbXE3ARU"
      },
      "outputs": [],
      "source": [
        "batch_size = 64\n",
        "\n",
        "train_loader = DataLoader(train, batch_size = batch_size, \n",
        "                          shuffle=True, collate_fn=collate_batch)\n",
        "\n",
        "val_loader   = DataLoader(valid, batch_size = batch_size,\n",
        "                          shuffle=True, collate_fn=collate_batch)\n",
        "\n",
        "test_loader  = DataLoader(test, batch_size = batch_size,\n",
        "                          shuffle=True, collate_fn=collate_batch)"
      ]
    },
    {
      "cell_type": "code",
      "execution_count": 34,
      "metadata": {
        "id": "flGdICXD3aEC"
      },
      "outputs": [],
      "source": [
        "# for label, text, length in train_loader:\n",
        "#     break\n",
        "\n",
        "# label: [batch size, ]\n",
        "# text : [batch size, longest length of this batch] ==> [batch size, seq len] ==> [b, l]\n",
        "# length:[batch size, ]\n",
        "\n",
        "# label, text, length  # why we need length --> we can later ignore padding...."
      ]
    },
    {
      "cell_type": "markdown",
      "metadata": {
        "id": "QIBYgQIszEWi"
      },
      "source": [
        "## 6. Designing the Model"
      ]
    },
    {
      "cell_type": "code",
      "execution_count": 35,
      "metadata": {
        "id": "Jo0b2fHk_L8D"
      },
      "outputs": [],
      "source": [
        "import torch.nn as nn\n",
        "\n",
        "class LSTM(nn.Module):\n",
        "    def __init__(self, input_dim, emb_dim, hid_dim, output_dim, num_layers, bidirectional, dropout):\n",
        "        super().__init__()\n",
        "        # putting padding_idx so asking the embedding layer to ignore padding\n",
        "        self.embedding = nn.Embedding(input_dim, emb_dim, padding_idx=pad_ix)\n",
        "        self.lstm = nn.LSTM(emb_dim, \n",
        "                           hid_dim, \n",
        "                           num_layers=num_layers, \n",
        "                           bidirectional=bidirectional, \n",
        "                           dropout=dropout,\n",
        "                           batch_first=True)\n",
        "        self.fc = nn.Linear(hid_dim * 2, output_dim)\n",
        "        \n",
        "    def forward(self, text, text_lengths):\n",
        "        # text = [batch size, seq len]\n",
        "        embedded = self.embedding(text)\n",
        "        \n",
        "        # ++ pack sequence ++\n",
        "        packed_embedded = nn.utils.rnn.pack_padded_sequence(embedded, text_lengths.to('cpu'), enforce_sorted=False, batch_first=True)\n",
        "        \n",
        "        # embedded = [batch size, seq len, embed dim]\n",
        "        packed_output, (hn, cn) = self.lstm(packed_embedded)  #if no h0, all zeroes\n",
        "        \n",
        "        # ++ unpack in case we need to use it ++\n",
        "        output, output_lengths = nn.utils.rnn.pad_packed_sequence(packed_output, batch_first=True)\n",
        "        \n",
        "        # output = [batch size, seq len, hidden dim * num directions]\n",
        "        # output over padding tokens are zero tensors\n",
        "        \n",
        "        # hidden = [num layers * num directions, batch size, hid dim]\n",
        "        # cell = [num layers * num directions, batch size, hid dim]\n",
        "        \n",
        "        # concat the final forward (hidden[-2,:,:]) and backward (hidden[-1,:,:]) hidden layers\n",
        "        hn = torch.cat((hn[-2,:,:], hn[-1,:,:]), dim = 1)\n",
        "        # hn = [batch size, hidden dim * num directions]\n",
        "        \n",
        "        return self.fc(hn)"
      ]
    },
    {
      "cell_type": "markdown",
      "metadata": {
        "id": "balRr4yP_PYQ"
      },
      "source": [
        "# 7. Training"
      ]
    },
    {
      "cell_type": "code",
      "execution_count": 36,
      "metadata": {
        "id": "drp2JmAz3Z_l"
      },
      "outputs": [],
      "source": [
        "#explicitly initialize weights for better learning\n",
        "def initialize_weights(m):\n",
        "    if isinstance(m, nn.Linear):\n",
        "        nn.init.xavier_normal_(m.weight)\n",
        "        nn.init.zeros_(m.bias)\n",
        "    elif isinstance(m, nn.LSTM):\n",
        "        for name, param in m.named_parameters():\n",
        "            if 'bias' in name:\n",
        "                nn.init.zeros_(param)\n",
        "            elif 'weight' in name:\n",
        "                nn.init.orthogonal_(param)"
      ]
    },
    {
      "cell_type": "code",
      "execution_count": 37,
      "metadata": {
        "id": "iPETAek23Z66"
      },
      "outputs": [],
      "source": [
        "input_dim  = len(vocab)\n",
        "hid_dim    = 256\n",
        "emb_dim    = 300 # FastText embedding\n",
        "output_dim = 2 # two classes\n",
        "\n",
        "# for biLSTM\n",
        "num_layers = 2\n",
        "bidirectional = True\n",
        "dropout = 0.5\n",
        "\n",
        "model = LSTM(input_dim, emb_dim, hid_dim, output_dim, num_layers, bidirectional, dropout).to(device)\n",
        "model.apply(initialize_weights)\n",
        "model.embedding.weight.data = fast_embedding #**<------applied the fast text embedding as the initial weights"
      ]
    },
    {
      "cell_type": "code",
      "execution_count": 38,
      "metadata": {
        "colab": {
          "base_uri": "https://localhost:8080/"
        },
        "id": "4a72sDpo3Z2T",
        "outputId": "1d4f08e3-468d-4adb-e911-98a324112d72"
      },
      "outputs": [
        {
          "name": "stdout",
          "output_type": "stream",
          "text": [
            "4130100\n",
            "307200\n",
            "262144\n",
            "  1024\n",
            "  1024\n",
            "307200\n",
            "262144\n",
            "  1024\n",
            "  1024\n",
            "524288\n",
            "262144\n",
            "  1024\n",
            "  1024\n",
            "524288\n",
            "262144\n",
            "  1024\n",
            "  1024\n",
            "  1024\n",
            "     2\n",
            "______\n",
            "6850870\n"
          ]
        }
      ],
      "source": [
        "# printing the complexity by the number of parameters\n",
        "def count_parameters(model):\n",
        "    params = [p.numel() for p in model.parameters() if p.requires_grad]\n",
        "    for item in params:\n",
        "        print(f'{item:>6}')\n",
        "    print(f'______\\n{sum(params):>6}')\n",
        "    \n",
        "count_parameters(model)"
      ]
    },
    {
      "cell_type": "code",
      "execution_count": 39,
      "metadata": {
        "id": "aFhlhRXp3Zxn"
      },
      "outputs": [],
      "source": [
        "import torch.optim as optim\n",
        "\n",
        "lr=1e-3\n",
        "\n",
        "# training hyperparameters\n",
        "optimizer = optim.Adam(model.parameters(), lr=lr)\n",
        "criterion = nn.CrossEntropyLoss() # combining softmax with cross entropy"
      ]
    },
    {
      "cell_type": "code",
      "execution_count": 40,
      "metadata": {
        "id": "RrZQBfqk3Zs_"
      },
      "outputs": [],
      "source": [
        "def accuracy(preds, y):\n",
        "    \n",
        "    predicted = torch.max(preds.data, 1)[1]\n",
        "    batch_corr = (predicted == y).sum()\n",
        "    acc = batch_corr / len(y)\n",
        "    \n",
        "    return acc"
      ]
    },
    {
      "cell_type": "code",
      "execution_count": 41,
      "metadata": {
        "id": "B3fe2TFY7jKp"
      },
      "outputs": [],
      "source": [
        "def train(model, loader, optimizer, criterion, loader_length):\n",
        "    epoch_loss = 0\n",
        "    epoch_acc = 0\n",
        "    model.train() # useful for batchnorm and dropout\n",
        "    \n",
        "    for i, (label, text, text_length) in enumerate(loader): \n",
        "        label = label.to(device) # (batch_size, )\n",
        "        text = text.to(device) # (batch_size, seq len)\n",
        "                \n",
        "        # prediction\n",
        "        predictions = model(text, text_length).squeeze(1) # output by the fc is (batch_size, 1), thus need to remove this 1\n",
        "        \n",
        "        # calculating loss\n",
        "        loss = criterion(predictions, label)\n",
        "        acc  = accuracy(predictions, label)\n",
        "        \n",
        "        # backpropagation\n",
        "        optimizer.zero_grad()\n",
        "        loss.backward()\n",
        "        optimizer.step()\n",
        "        \n",
        "        epoch_loss += loss.item()\n",
        "        epoch_acc += acc.item()\n",
        "                        \n",
        "    return epoch_loss / loader_length, epoch_acc / loader_length"
      ]
    },
    {
      "cell_type": "code",
      "execution_count": 42,
      "metadata": {
        "id": "H6ehqasz7jGz"
      },
      "outputs": [],
      "source": [
        "def evaluate(model, loader, criterion, loader_length):\n",
        "    epoch_loss = 0\n",
        "    epoch_acc = 0\n",
        "    model.eval()\n",
        "    \n",
        "    with torch.no_grad():\n",
        "        for i, (label, text, text_length) in enumerate(loader): \n",
        "            label = label.to(device) # (batch_size, )\n",
        "            text  = text.to(device)  # (seq len, batch_size)\n",
        "\n",
        "            predictions = model(text, text_length).squeeze(1) \n",
        "            \n",
        "            loss = criterion(predictions, label)\n",
        "            acc  = accuracy(predictions, label)\n",
        "\n",
        "            epoch_loss += loss.item()\n",
        "            epoch_acc += acc.item()\n",
        "        \n",
        "    return epoch_loss / loader_length, epoch_acc / loader_length"
      ]
    },
    {
      "cell_type": "markdown",
      "metadata": {
        "id": "K6cdss3JBefZ"
      },
      "source": [
        "# 8. Putting everuthing together"
      ]
    },
    {
      "cell_type": "code",
      "execution_count": 43,
      "metadata": {
        "id": "tM3Jknq27jBW"
      },
      "outputs": [],
      "source": [
        "train_loader_length = len(list(iter(train_loader)))\n",
        "val_loader_length   = len(list(iter(val_loader)))\n",
        "test_loader_length  = len(list(iter(test_loader)))"
      ]
    },
    {
      "cell_type": "code",
      "execution_count": 44,
      "metadata": {
        "id": "VEz4l5Jh7i8u"
      },
      "outputs": [],
      "source": [
        "def epoch_time(start_time, end_time):\n",
        "    elapsed_time = end_time - start_time\n",
        "    elapsed_mins = int(elapsed_time / 60)\n",
        "    elapsed_secs = int(elapsed_time - (elapsed_mins * 60))\n",
        "    return elapsed_mins, elapsed_secs"
      ]
    },
    {
      "cell_type": "code",
      "execution_count": 48,
      "metadata": {
        "colab": {
          "base_uri": "https://localhost:8080/"
        },
        "id": "izFd5vCjB0dL",
        "outputId": "2394b5b9-9401-4c72-a028-7756855dc9aa"
      },
      "outputs": [
        {
          "name": "stdout",
          "output_type": "stream",
          "text": [
            "Epoch: 01 | Time: 0m 18s\n",
            "\tTrain Loss: 0.120 | Train Acc: 95.68%\n",
            "\t Val. Loss: 0.073 |  Val. Acc: 97.35%\n",
            "Epoch: 02 | Time: 0m 17s\n",
            "\tTrain Loss: 0.090 | Train Acc: 96.65%\n",
            "\t Val. Loss: 0.062 |  Val. Acc: 97.80%\n",
            "Epoch: 03 | Time: 0m 17s\n",
            "\tTrain Loss: 0.070 | Train Acc: 97.40%\n",
            "\t Val. Loss: 0.048 |  Val. Acc: 98.13%\n",
            "Epoch: 04 | Time: 0m 18s\n",
            "\tTrain Loss: 0.058 | Train Acc: 97.82%\n",
            "\t Val. Loss: 0.036 |  Val. Acc: 98.70%\n",
            "Epoch: 05 | Time: 0m 18s\n",
            "\tTrain Loss: 0.047 | Train Acc: 98.14%\n",
            "\t Val. Loss: 0.032 |  Val. Acc: 98.76%\n"
          ]
        }
      ],
      "source": [
        "best_valid_loss = float('inf')\n",
        "num_epochs      = 5\n",
        "\n",
        "save_path = f'{model.__class__.__name__}.pt'\n",
        "\n",
        "train_losses = []\n",
        "train_accs = []\n",
        "valid_losses = []\n",
        "valid_accs = []\n",
        "\n",
        "for epoch in range(num_epochs):\n",
        "    \n",
        "    start_time = time.time()\n",
        "\n",
        "    train_loss, train_acc = train(model, train_loader, optimizer, criterion, train_loader_length)\n",
        "    valid_loss, valid_acc = evaluate(model, val_loader, criterion, val_loader_length)\n",
        "    \n",
        "    # for plotting\n",
        "    train_losses.append(train_loss)\n",
        "    train_accs.append(train_acc)\n",
        "    valid_losses.append(valid_loss)\n",
        "    valid_accs.append(valid_acc)\n",
        "    \n",
        "    end_time = time.time()\n",
        "    \n",
        "    epoch_mins, epoch_secs = epoch_time(start_time, end_time)\n",
        "    \n",
        "    if valid_loss < best_valid_loss:\n",
        "        best_valid_loss = valid_loss\n",
        "        torch.save(model.state_dict(), save_path)\n",
        "    \n",
        "    print(f'Epoch: {epoch+1:02} | Time: {epoch_mins}m {epoch_secs}s')\n",
        "    print(f'\\tTrain Loss: {train_loss:.3f} | Train Acc: {train_acc*100:.2f}%')\n",
        "    print(f'\\t Val. Loss: {valid_loss:.3f} |  Val. Acc: {valid_acc*100:.2f}%')"
      ]
    },
    {
      "cell_type": "markdown",
      "metadata": {
        "id": "lLi81_yrLt25"
      },
      "source": [
        "# 9. Plotting Loss and Accuracy"
      ]
    },
    {
      "cell_type": "code",
      "execution_count": 49,
      "metadata": {
        "colab": {
          "base_uri": "https://localhost:8080/",
          "height": 406
        },
        "id": "MWOUUFyW7i3z",
        "outputId": "445980e6-0add-4efa-e6c7-49520c9e23d5"
      },
      "outputs": [
        {
          "data": {
            "text/plain": [
              "Text(0, 0.5, 'loss')"
            ]
          },
          "execution_count": 49,
          "metadata": {},
          "output_type": "execute_result"
        },
        {
          "data": {
            "image/png": "[encoded data removed]",
            "text/plain": [
              "<Figure size 720x432 with 1 Axes>"
            ]
          },
          "metadata": {
            "needs_background": "light"
          },
          "output_type": "display_data"
        }
      ],
      "source": [
        "import matplotlib.pyplot as plt\n",
        "\n",
        "fig = plt.figure(figsize=(10, 6))\n",
        "ax = fig.add_subplot(1, 1, 1)\n",
        "ax.plot(train_losses, label = 'train loss')\n",
        "ax.plot(valid_losses, label = 'valid loss')\n",
        "plt.legend()\n",
        "ax.set_xlabel('updates')\n",
        "ax.set_ylabel('loss')"
      ]
    },
    {
      "cell_type": "code",
      "execution_count": 50,
      "metadata": {
        "colab": {
          "base_uri": "https://localhost:8080/",
          "height": 406
        },
        "id": "bXK9VlkPIXEM",
        "outputId": "9cfb2c71-5e7f-4d43-c9ff-064f991736d8"
      },
      "outputs": [
        {
          "data": {
            "text/plain": [
              "Text(0, 0.5, 'acc')"
            ]
          },
          "execution_count": 50,
          "metadata": {},
          "output_type": "execute_result"
        },
        {
          "data": {
            "image/png": "[encoded data removed]",
            "text/plain": [
              "<Figure size 720x432 with 1 Axes>"
            ]
          },
          "metadata": {
            "needs_background": "light"
          },
          "output_type": "display_data"
        }
      ],
      "source": [
        "fig = plt.figure(figsize=(10, 6))\n",
        "ax = fig.add_subplot(1, 1, 1)\n",
        "ax.plot(train_accs, label = 'train acc')\n",
        "ax.plot(valid_accs, label = 'valid acc')\n",
        "plt.legend()\n",
        "ax.set_xlabel('updates')\n",
        "ax.set_ylabel('acc')"
      ]
    },
    {
      "cell_type": "code",
      "execution_count": 51,
      "metadata": {
        "colab": {
          "base_uri": "https://localhost:8080/"
        },
        "id": "GRl34NQeIW7U",
        "outputId": "9813db86-c76d-436c-a1b4-c772d2a18d90"
      },
      "outputs": [
        {
          "name": "stdout",
          "output_type": "stream",
          "text": [
            "Test Loss: 0.746 | Test Acc: 81.76%\n"
          ]
        }
      ],
      "source": [
        "model.load_state_dict(torch.load(save_path))\n",
        "\n",
        "test_loss, test_acc = evaluate(model, test_loader, criterion, test_loader_length)\n",
        "\n",
        "print(f'Test Loss: {test_loss:.3f} | Test Acc: {test_acc*100:.2f}%')"
      ]
    },
    {
      "cell_type": "markdown",
      "metadata": {
        "id": "3dYtBV7eMOAr"
      },
      "source": [
        "# 10. Testing on Random Data"
      ]
    },
    {
      "cell_type": "code",
      "execution_count": 52,
      "metadata": {
        "colab": {
          "base_uri": "https://localhost:8080/"
        },
        "id": "BR4o1_32IWtj",
        "outputId": "c3a170e1-36ef-40e8-e3a6-e35be3e96655"
      },
      "outputs": [
        {
          "data": {
            "text/plain": [
              "tensor([   0,   23, 4175, 2716, 1976,  770,    4,    0, 1543,   31, 9877,   29,\n",
              "           4,   82, 2327,    8,  588, 3033,   43, 2225,   10,    0,    9],\n",
              "       device='cuda:0')"
            ]
          },
          "execution_count": 52,
          "metadata": {},
          "output_type": "execute_result"
        }
      ],
      "source": [
        "test_str = \"This movie illustrates gender roles during the nineteenth century by focusing on the life experiences of four sisters from childhood to adulthood.\"\n",
        "text = torch.tensor(text_pipeline(test_str)).to(device)\n",
        "text"
      ]
    },
    {
      "cell_type": "code",
      "execution_count": 53,
      "metadata": {
        "colab": {
          "base_uri": "https://localhost:8080/"
        },
        "id": "8LFTnENxMw73",
        "outputId": "ea56456d-f4ec-40c9-e3c9-39c53605c904"
      },
      "outputs": [
        {
          "data": {
            "text/plain": [
              "[0,\n",
              " 23,\n",
              " 4175,\n",
              " 2716,\n",
              " 1976,\n",
              " 770,\n",
              " 4,\n",
              " 0,\n",
              " 1543,\n",
              " 31,\n",
              " 9877,\n",
              " 29,\n",
              " 4,\n",
              " 82,\n",
              " 2327,\n",
              " 8,\n",
              " 588,\n",
              " 3033,\n",
              " 43,\n",
              " 2225,\n",
              " 10,\n",
              " 0,\n",
              " 9]"
            ]
          },
          "execution_count": 53,
          "metadata": {},
          "output_type": "execute_result"
        }
      ],
      "source": [
        "text_list = [x.item() for x in text]\n",
        "text_list"
      ]
    },
    {
      "cell_type": "code",
      "execution_count": 54,
      "metadata": {
        "colab": {
          "base_uri": "https://localhost:8080/",
          "height": 36
        },
        "id": "tHcYuPjIMw2w",
        "outputId": "74a1dee7-dae8-4247-fb53-18c3fe64c260"
      },
      "outputs": [
        {
          "data": {
            "application/vnd.google.colaboratory.intrinsic+json": {
              "type": "string"
            },
            "text/plain": [
              "'hard'"
            ]
          },
          "execution_count": 54,
          "metadata": {},
          "output_type": "execute_result"
        }
      ],
      "source": [
        "# we can reverse it....\n",
        "mapping = vocab.get_itos()\n",
        "\n",
        "# printing 159, for example\n",
        "mapping[159]"
      ]
    },
    {
      "cell_type": "code",
      "execution_count": 55,
      "metadata": {
        "colab": {
          "base_uri": "https://localhost:8080/"
        },
        "id": "CtLla977N30p",
        "outputId": "a12d1dd7-e61a-4883-9d22-1ffeae98eaaf"
      },
      "outputs": [
        {
          "data": {
            "text/plain": [
              "['<unk>',\n",
              " 'movie',\n",
              " 'illustrates',\n",
              " 'gender',\n",
              " 'roles',\n",
              " 'during',\n",
              " 'the',\n",
              " '<unk>',\n",
              " 'century',\n",
              " 'by',\n",
              " 'focusing',\n",
              " 'on',\n",
              " 'the',\n",
              " 'life',\n",
              " 'experiences',\n",
              " 'of',\n",
              " 'four',\n",
              " 'sisters',\n",
              " 'from',\n",
              " 'childhood',\n",
              " 'to',\n",
              " '<unk>',\n",
              " '.']"
            ]
          },
          "execution_count": 55,
          "metadata": {},
          "output_type": "execute_result"
        }
      ],
      "source": [
        "[mapping[num] for num in text_list]"
      ]
    },
    {
      "cell_type": "code",
      "execution_count": 56,
      "metadata": {
        "id": "49l14KSdOKr0"
      },
      "outputs": [],
      "source": [
        "text = text.reshape(1, -1)  #because batch_size is 1"
      ]
    },
    {
      "cell_type": "code",
      "execution_count": 57,
      "metadata": {
        "id": "EO0xGlEWN3vu"
      },
      "outputs": [],
      "source": [
        "text_length = torch.tensor([text.size(1)]).to(dtype=torch.int64)"
      ]
    },
    {
      "cell_type": "code",
      "execution_count": 58,
      "metadata": {
        "colab": {
          "base_uri": "https://localhost:8080/"
        },
        "id": "foqkBNmqN3qd",
        "outputId": "32e6f47a-b4f8-4259-977e-969590332c34"
      },
      "outputs": [
        {
          "data": {
            "text/plain": [
              "torch.Size([1, 23])"
            ]
          },
          "execution_count": 58,
          "metadata": {},
          "output_type": "execute_result"
        }
      ],
      "source": [
        "text.shape"
      ]
    },
    {
      "cell_type": "code",
      "execution_count": 59,
      "metadata": {
        "id": "QDNkHI9uOVZt"
      },
      "outputs": [],
      "source": [
        "def predict(text, text_length):\n",
        "    with torch.no_grad():\n",
        "        output = model(text, text_length).squeeze(1)\n",
        "        predicted = torch.max(output.data, 1)[1]\n",
        "        return predicted"
      ]
    },
    {
      "cell_type": "code",
      "execution_count": 60,
      "metadata": {
        "colab": {
          "base_uri": "https://localhost:8080/"
        },
        "id": "cJxensH1OVUN",
        "outputId": "0b772d99-6277-4766-c3b1-e0496dba1c42"
      },
      "outputs": [
        {
          "data": {
            "text/plain": [
              "tensor([1], device='cuda:0')"
            ]
          },
          "execution_count": 60,
          "metadata": {},
          "output_type": "execute_result"
        }
      ],
      "source": [
        "predict(text, text_length)"
      ]
    },
    {
      "cell_type": "markdown",
      "metadata": {
        "id": "AXiGJJp6Oi-d"
      },
      "source": [
        "## 10.1 Testing on Negative-Negative Sentence"
      ]
    },
    {
      "cell_type": "code",
      "execution_count": 61,
      "metadata": {
        "colab": {
          "base_uri": "https://localhost:8080/"
        },
        "id": "c7djcr7zOktn",
        "outputId": "2fc03cfc-4e14-4e2f-c570-5969cfdb4b2c"
      },
      "outputs": [
        {
          "data": {
            "text/plain": [
              "tensor([   0,   23,  105,   37, 1309,    7,  169,   16,  297,   37, 3846,  185,\n",
              "        6427,    9], device='cuda:0')"
            ]
          },
          "execution_count": 61,
          "metadata": {},
          "output_type": "execute_result"
        }
      ],
      "source": [
        "# 1st sentence\n",
        "negneg_test = \"The movie was not unpleasant and also it did not earn less popularity.\"\n",
        "text = torch.tensor(text_pipeline(negneg_test)).to(device)\n",
        "text"
      ]
    },
    {
      "cell_type": "code",
      "execution_count": 62,
      "metadata": {
        "colab": {
          "base_uri": "https://localhost:8080/"
        },
        "id": "2HZbm_TiOkpQ",
        "outputId": "82718095-d118-4cbf-e995-1030bb493bc4"
      },
      "outputs": [
        {
          "data": {
            "text/plain": [
              "[0, 23, 105, 37, 1309, 7, 169, 16, 297, 37, 3846, 185, 6427, 9]"
            ]
          },
          "execution_count": 62,
          "metadata": {},
          "output_type": "execute_result"
        }
      ],
      "source": [
        "text_list = [x.item() for x in text]\n",
        "text_list"
      ]
    },
    {
      "cell_type": "code",
      "execution_count": 63,
      "metadata": {
        "id": "HU2WkZ4jOkjN"
      },
      "outputs": [],
      "source": [
        "text = text.reshape(1, -1)  "
      ]
    },
    {
      "cell_type": "code",
      "execution_count": 64,
      "metadata": {
        "id": "wuV0OYsWQTbd"
      },
      "outputs": [],
      "source": [
        "text_length = torch.tensor([text.size(1)]).to(dtype=torch.int64)"
      ]
    },
    {
      "cell_type": "code",
      "execution_count": 65,
      "metadata": {
        "colab": {
          "base_uri": "https://localhost:8080/"
        },
        "id": "zbDae4-zQTVg",
        "outputId": "09915913-16db-4d50-ab8f-5333ffeadc27"
      },
      "outputs": [
        {
          "data": {
            "text/plain": [
              "torch.Size([1, 14])"
            ]
          },
          "execution_count": 65,
          "metadata": {},
          "output_type": "execute_result"
        }
      ],
      "source": [
        "text.shape"
      ]
    },
    {
      "cell_type": "code",
      "execution_count": 66,
      "metadata": {
        "colab": {
          "base_uri": "https://localhost:8080/"
        },
        "id": "nRRtoWYtQTOM",
        "outputId": "a3268bdc-4dc9-40d2-e7c7-781188a0f861"
      },
      "outputs": [
        {
          "data": {
            "text/plain": [
              "tensor([0], device='cuda:0')"
            ]
          },
          "execution_count": 66,
          "metadata": {},
          "output_type": "execute_result"
        }
      ],
      "source": [
        "predict(text, text_length)"
      ]
    },
    {
      "cell_type": "code",
      "execution_count": 85,
      "metadata": {
        "colab": {
          "base_uri": "https://localhost:8080/"
        },
        "id": "zN2t2h47Qklm",
        "outputId": "98824d8b-2439-4497-f380-9ef4965e21ee"
      },
      "outputs": [
        {
          "data": {
            "text/plain": [
              "tensor([  0, 327, 105,  37,  76,   9], device='cuda:0')"
            ]
          },
          "execution_count": 85,
          "metadata": {},
          "output_type": "execute_result"
        }
      ],
      "source": [
        "# 2nd sentence\n",
        "negneg_test = \"The show was not that bad.\"\n",
        "text = torch.tensor(text_pipeline(negneg_test)).to(device)\n",
        "text"
      ]
    },
    {
      "cell_type": "code",
      "execution_count": 86,
      "metadata": {
        "colab": {
          "base_uri": "https://localhost:8080/"
        },
        "id": "1reSAZvmQkUt",
        "outputId": "ec38035f-e3aa-4346-e740-53e6b06fe053"
      },
      "outputs": [
        {
          "data": {
            "text/plain": [
              "[0, 327, 105, 37, 76, 9]"
            ]
          },
          "execution_count": 86,
          "metadata": {},
          "output_type": "execute_result"
        }
      ],
      "source": [
        "text_list = [x.item() for x in text]\n",
        "text_list"
      ]
    },
    {
      "cell_type": "code",
      "execution_count": 87,
      "metadata": {
        "id": "Gq7ePNGqQkJz"
      },
      "outputs": [],
      "source": [
        "text = text.reshape(1, -1)"
      ]
    },
    {
      "cell_type": "code",
      "execution_count": 88,
      "metadata": {
        "id": "m9lD1z_zRFGi"
      },
      "outputs": [],
      "source": [
        "text_length = torch.tensor([text.size(1)]).to(dtype=torch.int64)"
      ]
    },
    {
      "cell_type": "code",
      "execution_count": 89,
      "metadata": {
        "colab": {
          "base_uri": "https://localhost:8080/"
        },
        "id": "SWqSB05LRHkg",
        "outputId": "882940a2-0752-4ddb-87f2-76e9ccd0e01b"
      },
      "outputs": [
        {
          "data": {
            "text/plain": [
              "torch.Size([1, 6])"
            ]
          },
          "execution_count": 89,
          "metadata": {},
          "output_type": "execute_result"
        }
      ],
      "source": [
        "text.shape"
      ]
    },
    {
      "cell_type": "code",
      "execution_count": 90,
      "metadata": {
        "colab": {
          "base_uri": "https://localhost:8080/"
        },
        "id": "1t6dr9jDRXIQ",
        "outputId": "0961911f-530e-4d9d-efd6-50c3ee81d7d8"
      },
      "outputs": [
        {
          "data": {
            "text/plain": [
              "tensor([1], device='cuda:0')"
            ]
          },
          "execution_count": 90,
          "metadata": {},
          "output_type": "execute_result"
        }
      ],
      "source": [
        "predict(text, text_length)"
      ]
    },
    {
      "cell_type": "markdown",
      "metadata": {
        "id": "9lckUR3GRmAF"
      },
      "source": [
        "## 10.2 Testing on Negative-Positive Sentence"
      ]
    },
    {
      "cell_type": "code",
      "execution_count": 91,
      "metadata": {
        "colab": {
          "base_uri": "https://localhost:8080/"
        },
        "id": "8pLpprBmRoxY",
        "outputId": "1e52739e-3632-47e3-8d60-0a70adb2cbf8"
      },
      "outputs": [
        {
          "data": {
            "text/plain": [
              "tensor([    0,   136,   297,    37,   344,     4, 13302,    14,  2356,   332,\n",
              "         1221,     9], device='cuda:0')"
            ]
          },
          "execution_count": 91,
          "metadata": {},
          "output_type": "execute_result"
        }
      ],
      "source": [
        "# 1st sentence\n",
        "negpos_test = \"The audience did not enjoy the flim that released last week.\"\n",
        "text = torch.tensor(text_pipeline(negpos_test)).to(device)\n",
        "text"
      ]
    },
    {
      "cell_type": "code",
      "execution_count": 92,
      "metadata": {
        "colab": {
          "base_uri": "https://localhost:8080/"
        },
        "id": "sahy9b0vRpFO",
        "outputId": "9d93773e-d353-4494-b02f-7106f90ef562"
      },
      "outputs": [
        {
          "data": {
            "text/plain": [
              "[0, 136, 297, 37, 344, 4, 13302, 14, 2356, 332, 1221, 9]"
            ]
          },
          "execution_count": 92,
          "metadata": {},
          "output_type": "execute_result"
        }
      ],
      "source": [
        "text_list = [x.item() for x in text]\n",
        "text_list"
      ]
    },
    {
      "cell_type": "code",
      "execution_count": 93,
      "metadata": {
        "id": "J6gNajdoRo5B"
      },
      "outputs": [],
      "source": [
        "text = text.reshape(1, -1)"
      ]
    },
    {
      "cell_type": "code",
      "execution_count": 94,
      "metadata": {
        "id": "cJ3ZBc3cSS0N"
      },
      "outputs": [],
      "source": [
        "text_length = torch.tensor([text.size(1)]).to(dtype=torch.int64)"
      ]
    },
    {
      "cell_type": "code",
      "execution_count": 95,
      "metadata": {
        "colab": {
          "base_uri": "https://localhost:8080/"
        },
        "id": "u71cd2QRSStd",
        "outputId": "8c4dd408-e14f-40d6-ba9b-328e1fb5ba9e"
      },
      "outputs": [
        {
          "data": {
            "text/plain": [
              "torch.Size([1, 12])"
            ]
          },
          "execution_count": 95,
          "metadata": {},
          "output_type": "execute_result"
        }
      ],
      "source": [
        "text.shape"
      ]
    },
    {
      "cell_type": "code",
      "execution_count": 96,
      "metadata": {
        "colab": {
          "base_uri": "https://localhost:8080/"
        },
        "id": "doAYor8ISdvk",
        "outputId": "d00a99bb-f7a4-4037-c2d0-9050ecfc7ff6"
      },
      "outputs": [
        {
          "data": {
            "text/plain": [
              "tensor([0], device='cuda:0')"
            ]
          },
          "execution_count": 96,
          "metadata": {},
          "output_type": "execute_result"
        }
      ],
      "source": [
        "predict(text, text_length)"
      ]
    },
    {
      "cell_type": "code",
      "execution_count": 97,
      "metadata": {
        "colab": {
          "base_uri": "https://localhost:8080/"
        },
        "id": "uZGwp-jNSuPl",
        "outputId": "40ef8681-4542-4cab-b4a1-0c84bd9fcda6"
      },
      "outputs": [
        {
          "data": {
            "text/plain": [
              "tensor([   0,   23,  105,   37,  204,    8,    4, 1773, 1438,    9],\n",
              "       device='cuda:0')"
            ]
          },
          "execution_count": 97,
          "metadata": {},
          "output_type": "execute_result"
        }
      ],
      "source": [
        "# 2nd sentence\n",
        "negpos_test = \"The movie was not worth of the ticket price.\"\n",
        "text = torch.tensor(text_pipeline(negpos_test)).to(device)\n",
        "text"
      ]
    },
    {
      "cell_type": "code",
      "execution_count": 98,
      "metadata": {
        "colab": {
          "base_uri": "https://localhost:8080/"
        },
        "id": "H2kNgdbcSt8k",
        "outputId": "72041868-7f44-41a9-b6b9-f9e5995b1936"
      },
      "outputs": [
        {
          "data": {
            "text/plain": [
              "[0, 23, 105, 37, 204, 8, 4, 1773, 1438, 9]"
            ]
          },
          "execution_count": 98,
          "metadata": {},
          "output_type": "execute_result"
        }
      ],
      "source": [
        "text_list = [x.item() for x in text]\n",
        "text_list"
      ]
    },
    {
      "cell_type": "code",
      "execution_count": 99,
      "metadata": {
        "id": "SXn5luRLSq9v"
      },
      "outputs": [],
      "source": [
        "text = text.reshape(1, -1)"
      ]
    },
    {
      "cell_type": "code",
      "execution_count": 100,
      "metadata": {
        "id": "EgcyhAePSoXd"
      },
      "outputs": [],
      "source": [
        "text_length = torch.tensor([text.size(1)]).to(dtype=torch.int64)"
      ]
    },
    {
      "cell_type": "code",
      "execution_count": 101,
      "metadata": {
        "colab": {
          "base_uri": "https://localhost:8080/"
        },
        "id": "iGfT10i-Sj_Y",
        "outputId": "5391f8b8-7399-4e6b-945a-9ad5687a4312"
      },
      "outputs": [
        {
          "data": {
            "text/plain": [
              "torch.Size([1, 10])"
            ]
          },
          "execution_count": 101,
          "metadata": {},
          "output_type": "execute_result"
        }
      ],
      "source": [
        "text.shape"
      ]
    },
    {
      "cell_type": "code",
      "execution_count": 102,
      "metadata": {
        "colab": {
          "base_uri": "https://localhost:8080/"
        },
        "id": "oLFKYJONSjy4",
        "outputId": "2520baf7-5dac-475b-d56a-77be010312d1"
      },
      "outputs": [
        {
          "data": {
            "text/plain": [
              "tensor([0], device='cuda:0')"
            ]
          },
          "execution_count": 102,
          "metadata": {},
          "output_type": "execute_result"
        }
      ],
      "source": [
        "predict(text, text_length)"
      ]
    }
  ],
  "metadata": {
    "accelerator": "GPU",
    "colab": {
      "provenance": []
    },
    "gpuClass": "standard",
    "kernelspec": {
      "display_name": "Python 3",
      "name": "python3"
    },
    "language_info": {
      "name": "python"
    }
  },
  "nbformat": 4,
  "nbformat_minor": 0
}
